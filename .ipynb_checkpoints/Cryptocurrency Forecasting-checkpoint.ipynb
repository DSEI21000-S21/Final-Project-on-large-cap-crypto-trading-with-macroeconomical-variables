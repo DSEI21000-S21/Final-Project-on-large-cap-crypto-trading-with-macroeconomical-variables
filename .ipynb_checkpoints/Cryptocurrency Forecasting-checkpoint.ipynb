{
 "cells": [
  {
   "cell_type": "markdown",
   "metadata": {
    "_cell_guid": "263d9d81-54bc-4532-8ea1-31c102e712a5",
    "_uuid": "d174b6d6d8a98b9d8a26999fb6f8b27a47ce1cb2"
   },
   "source": [
    "# Cryptocurrency Price Forecasting\n",
    "\n",
    "Cryptocurrencies are fast becoming rivals to traditional currency across the world. The digital currencies are available to purchase in many different places, making it accessible to everyone, and with retailers accepting various cryptocurrencies it could be a sign that money as we know it is about to go through a major change.\n",
    "\n",
    "In addition, the blockchain technology on which many cryptocurrencies are based, with its revolutionary distributed digital backbone, has many other promising applications. Implementations of secure, decentralized systems can aid us in conquering organizational issues of trust and security that have plagued our society throughout the ages. In effect, we can fundamentally disrupt industries core to economies, businesses and social structures, eliminating inefficiency and human error.\n",
    "\n",
    "In this notebook I attempt to predict the price of cryptocurrencies for the next few months.\n",
    "\n",
    "I will initially work with only the Bitcoin data and may in future generalise the code and use it for other cryptos if it works out for  Bitcoin.\n",
    "\n",
    "\n",
    "Prequels to this notebook can be found here:\n",
    " - https://www.kaggle.com/taniaj/cryptocurrency-predictions-with-arima\n",
    " - https://www.kaggle.com/taniaj/cryptocurrency-market-analysis\n",
    "\n",
    "## Contents:\n",
    "   * [Stationarity check and Seasonal decomposition](#stationarity_check)\n",
    "   * [Transformation](#transformation)\n",
    "   * [Differencing](#differencing)\n",
    "       * [Seasonal differentiation](#seasonal_differentiation)\n",
    "       * [Regular differentiation](#regular_differentiation)\n",
    "   * [Autocorrelation](#autocorrelation)\n",
    "   * [Monthly Forecasting](#monthly_forecasting)\n",
    "       * [ARIMAModel](#arima_model)\n",
    "           * [Analysis of Results](#analysis_arima)\n",
    "           * [PredictionARIMA](#prediction_arima)\n",
    "       * [SARIMAModel](#sarimax_model)\n",
    "           * [Analysis of Results](#analysis_sarimax)\n",
    "           * [Prediction](#prediction_sarimax)\n",
    "       * [Validation](#validation)\n",
    "           * [Baseline](#baseline)\n",
    "           * [SARIMAX](#validation_sarimax)"
   ]
  },
  {
   "cell_type": "code",
   "execution_count": 1,
   "metadata": {
    "_cell_guid": "863a1cda-7c1b-4935-85bd-e64f9f13371a",
    "_uuid": "a2456a7fd941060120f61e19ffe5062e4d4c17a9"
   },
   "outputs": [],
   "source": [
    "import pandas as pd\n",
    "from pandas import DataFrame\n",
    "import numpy as np\n",
    "import matplotlib.pyplot as plt\n",
    "import seaborn as sns\n",
    "from datetime import datetime, timedelta\n",
    "from statsmodels.tsa.arima_model import ARIMA\n",
    "from statsmodels.tsa.statespace.sarimax import SARIMAX\n",
    "from statsmodels.graphics.tsaplots import plot_acf, plot_pacf\n",
    "from statsmodels.tsa.stattools import adfuller\n",
    "from statsmodels.tsa.seasonal import seasonal_decompose\n",
    "from scipy import stats\n",
    "import statsmodels.api as sm\n",
    "from itertools import product\n",
    "from math import sqrt\n",
    "from sklearn.metrics import mean_squared_error \n",
    "\n",
    "import warnings\n",
    "warnings.filterwarnings('ignore')\n",
    "\n",
    "%matplotlib inline\n",
    "\n",
    "colors = [\"windows blue\", \"amber\", \"faded green\", \"dusty purple\"]\n",
    "sns.set(rc={\"figure.figsize\": (20,10), \"axes.titlesize\" : 18, \"axes.labelsize\" : 12, \n",
    "            \"xtick.labelsize\" : 14, \"ytick.labelsize\" : 14 })"
   ]
  },
  {
   "cell_type": "code",
   "execution_count": 2,
   "metadata": {
    "_cell_guid": "7c958ab2-53f7-4874-a7b8-c36550dfd108",
    "_uuid": "9d8a2bca398d91bfbc6f32f1acd3211c8f920651",
    "collapsed": true,
    "jupyter": {
     "outputs_hidden": true
    }
   },
   "outputs": [],
   "source": [
    "dateparse = lambda dates: pd.datetime.strptime(dates, '%Y-%m-%d')\n",
    "df = pd.read_csv('../input/all_currencies.csv', parse_dates=['Date'], index_col='Date', date_parser=dateparse)\n",
    "df = df.loc[:, ~df.columns.str.contains('^Unnamed')]"
   ]
  },
  {
   "cell_type": "code",
   "execution_count": 3,
   "metadata": {
    "_cell_guid": "0ce5116c-5482-4a0b-a9bc-f711c11e41eb",
    "_uuid": "d96a12b062a85a13d8be90570b000bdb72ebde06"
   },
   "outputs": [],
   "source": [
    "df.sample(5)"
   ]
  },
  {
   "cell_type": "code",
   "execution_count": 4,
   "metadata": {
    "_cell_guid": "b8fdc301-09c2-4b82-bd7e-842ba5222fcb",
    "_uuid": "854dd887cbaadb3730f751d786f0d6fafc8e02ef",
    "collapsed": true,
    "jupyter": {
     "outputs_hidden": true
    }
   },
   "outputs": [],
   "source": [
    "# Extract the bitcoin data only\n",
    "btc=df[df['Symbol']=='BTC']\n",
    "# Drop some columns\n",
    "btc.drop(['Volume', 'Market Cap'],axis=1,inplace=True) "
   ]
  },
  {
   "cell_type": "code",
   "execution_count": 5,
   "metadata": {
    "_cell_guid": "559fa0bd-9158-4651-97f0-a5ce8f9afc40",
    "_uuid": "cb3cac1744cdbb11303f588a84a398befe56842f",
    "collapsed": true,
    "jupyter": {
     "outputs_hidden": true
    }
   },
   "outputs": [],
   "source": [
    "# Lets take just the last year \n",
    "#btc = btc.loc['2017']\n",
    "#btc.shape"
   ]
  },
  {
   "cell_type": "markdown",
   "metadata": {
    "_cell_guid": "6776e9ec-2b39-4db7-a6db-0d0a00a75a1d",
    "_uuid": "9bdd159317c3294e21fe864348de8551f62352b6"
   },
   "source": [
    "## Stationarity check and Seasonal decomposition <a class=\"anchor\" id=\"stationary_check\"></a>\n",
    "\n",
    "If a timeseries is stationary, it implies the lack of broad trends (changes in mean and variance over time) in the data. This is important as a consideration in time series forecasting.\n",
    "\n",
    "The statsmodels library provides a seasonal_decompose method, an implementation of the naive decomposition method, which we will use to examine our timeseries."
   ]
  },
  {
   "cell_type": "code",
   "execution_count": 6,
   "metadata": {
    "_cell_guid": "41cad78a-8983-4c6e-a13d-2c9d10413db1",
    "_uuid": "17ee93553aa3c89dfce33fce75a4dd0350856234",
    "collapsed": true,
    "jupyter": {
     "outputs_hidden": true
    }
   },
   "outputs": [],
   "source": [
    "# Resampling to monthly frequency\n",
    "btc_month = btc.resample('M').mean()"
   ]
  },
  {
   "cell_type": "code",
   "execution_count": 7,
   "metadata": {
    "_cell_guid": "47eda625-6f6a-4c33-8750-d7595df580f0",
    "_uuid": "7b1ba3a3cb2e1aba9cab30f16fa72d649eafebd3"
   },
   "outputs": [],
   "source": [
    "#seasonal_decompose(btc_month.close, freq=12).plot()\n",
    "seasonal_decompose(btc_month.Close, model='additive').plot()\n",
    "print(\"Dickey–Fuller test: p=%f\" % adfuller(btc_month.Close)[1])"
   ]
  },
  {
   "cell_type": "markdown",
   "metadata": {
    "_cell_guid": "29b864f3-bbb4-4658-868e-0f0a8ba27479",
    "_uuid": "b4a14129f86dba88ea6e3de3690511361d866fd5"
   },
   "source": [
    "The p-value indicates that series is not stationary with 99.88% confidence.\n",
    "\n",
    "Most interesting is the seasonal component which was extracted, which looks like it repeats itself on a yearly basis.\n",
    "\n",
    "We can also see that the residuals are fairly constant until around the start of 2017, which is going to make forecasting difficult as we are still inside of this time period where the price is moving insanely.\n",
    "\n",
    "However, lets proceed anyway. "
   ]
  },
  {
   "cell_type": "markdown",
   "metadata": {
    "_cell_guid": "4d63f594-ded4-476a-a378-ee1fb6ebfa55",
    "_uuid": "acf93697a46c2949c1b51306be2e54c986b22e2c"
   },
   "source": [
    "## Box-Cox Transformation </a><a class=\"anchor\" id=\"transformation\"></a>\n",
    "\n",
    "Lets use the Box-Cox transformation to suppress some of the variance.\n",
    "\n",
    "The Box-Cox transformation is a family of power transformations indexed by a parameter lambda. Whenever you use it the parameter needs to be estimated from the data. In time series the process could have a non-constant variance. if the variance changes with time the process is nonstationary. It is often desirable to transform a time series to make it stationary. Sometimes after applying Box-Cox with a particular value of lambda the process may look stationary. It is sometimes possible that even if after applying the Box-Cox transformation the series does not appear to be stationary, diagnostics from ARIMA modeling can then be used to decide if differencing or seasonal differencing might be useful to to remove polynomial trends or seasonal trends respectively. After that the result might be an ARMA model that is stationary. If diagnostics confirm the orders p an q for the ARMA model, the AR and MA parameters can then be estimated."
   ]
  },
  {
   "cell_type": "code",
   "execution_count": 8,
   "metadata": {
    "_cell_guid": "e55df834-355c-4e63-8a50-9020e3820109",
    "_uuid": "83014587725ea1c3fe25aa079d58381e4a1e2475"
   },
   "outputs": [],
   "source": [
    "# Box-Cox Transformations\n",
    "btc_month['close_box'], lmbda = stats.boxcox(btc_month.Close)\n",
    "print(\"Dickey–Fuller test: p=%f\" % adfuller(btc_month.close_box)[1])"
   ]
  },
  {
   "cell_type": "markdown",
   "metadata": {
    "_cell_guid": "46c3ea6a-3f83-4be2-b55f-37ef8e3fea24",
    "_uuid": "9e0a5dcdc701435d919253c76c13297b59ac825f"
   },
   "source": [
    "The p-value indicates that series is still not stationary."
   ]
  },
  {
   "cell_type": "markdown",
   "metadata": {
    "_cell_guid": "3bf0bcb0-a290-4eeb-9238-7d010803d546",
    "_uuid": "22e0eddfa7184fd005b61a116a8be6788f04ef1e"
   },
   "source": [
    "## Differencing <a class=\"anchor\" id=\"differencing\"></a>\n",
    "\n",
    "When building models to forecast time series data (like ARIMA), another pre-processing step is differencing the data (calculating sequentially xt−xt−1) until we get to a point where the series is stationary. Models account for oscillations but not for trends, and therefore, accounting for trends by differencing allows us to use the models that account for oscillations.\n",
    "\n",
    "Once the model has been constructed, we can account for trends separately, by adding the trends component-wise."
   ]
  },
  {
   "cell_type": "markdown",
   "metadata": {
    "_cell_guid": "ec754ade-3b2e-4524-b5a5-bbe23adbc69c",
    "_uuid": "93b062f8ac91e8000058850f4d16d3129bac2355"
   },
   "source": [
    "### Seasonal differentiation  <a class=\"anchor\" id=\"seasonal_differentiationn\"></a>\n",
    "\n",
    "One method of differencing data is seasonal differencing, which involves computing the difference between an observation and the corresponding observation in the previous year."
   ]
  },
  {
   "cell_type": "code",
   "execution_count": 9,
   "metadata": {
    "_cell_guid": "e76e5a89-3437-4187-8167-877d8b8348d2",
    "_uuid": "9cd98cba62772cc0088507e1f58b8ed2a24b0df0"
   },
   "outputs": [],
   "source": [
    "# Seasonal differentiation (12 months)\n",
    "btc_month['box_diff_seasonal_12'] = btc_month.close_box - btc_month.close_box.shift(12)\n",
    "print(\"Dickey–Fuller test: p=%f\" % adfuller(btc_month.box_diff_seasonal_12[12:])[1])"
   ]
  },
  {
   "cell_type": "markdown",
   "metadata": {
    "_cell_guid": "781d9d83-754d-4df0-b53f-e440770be112",
    "_uuid": "c12951bc6e3fa3b6bb1ebe4a37a70cc2c5b1336f"
   },
   "source": [
    "The p-value indicates that series is still not stationary."
   ]
  },
  {
   "cell_type": "code",
   "execution_count": 10,
   "metadata": {
    "_cell_guid": "d2039977-a42e-4642-a4d6-9e59b7b3fb4e",
    "_uuid": "9f0b5b4e6ab3561b1b1b5c3f43bbefd048e819b2"
   },
   "outputs": [],
   "source": [
    "# Seasonal differentiation (3 months)\n",
    "btc_month['box_diff_seasonal_3'] = btc_month.close_box - btc_month.close_box.shift(3)\n",
    "print(\"Dickey–Fuller test: p=%f\" % adfuller(btc_month.box_diff_seasonal_3[3:])[1])"
   ]
  },
  {
   "cell_type": "markdown",
   "metadata": {
    "_cell_guid": "b0de151c-947a-499e-8440-171ede5d4a2b",
    "_uuid": "934193ddee0a4aac928bb35865fc6eeae75f7dcc"
   },
   "source": [
    "The p-value indicates that series is stationary as the computed p-value is lower than the significance level alpha = 0.05."
   ]
  },
  {
   "cell_type": "markdown",
   "metadata": {
    "_cell_guid": "4ba38672-6b74-46d2-ab5d-cfc86c4a1ba3",
    "_uuid": "cdd6c82d4472ed95cdf66f2ec032c0063368baa3"
   },
   "source": [
    "### Regular differentiation  <a class=\"anchor\" id=\"regular_differentiation\"></a>\n",
    "\n",
    "Sometimes it may be necessary to difference the data a second time to obtain a stationary time series, which is referred to as second order differencing."
   ]
  },
  {
   "cell_type": "code",
   "execution_count": 11,
   "metadata": {
    "_cell_guid": "a15b9dd3-54e3-46ee-9502-db7f4ddd883e",
    "_uuid": "0bd7db4e017c3060f17875560110e0e070ad3796"
   },
   "outputs": [],
   "source": [
    "# Regular differentiation\n",
    "btc_month['box_diff2'] = btc_month.box_diff_seasonal_12 - btc_month.box_diff_seasonal_12.shift(1)\n",
    "\n",
    "# STL-decomposition\n",
    "seasonal_decompose(btc_month.box_diff2[13:]).plot()   \n",
    "print(\"Dickey–Fuller test: p=%f\" % adfuller(btc_month.box_diff2[13:])[1])"
   ]
  },
  {
   "cell_type": "markdown",
   "metadata": {
    "_cell_guid": "8ee7f66f-9e2a-4141-8331-20bf5d9327bd",
    "_uuid": "81a9ff0db818d43d9fb597564956f02fe2574dff"
   },
   "source": [
    "The p-value indicates that series is stationary as the computed p-value is lower than the significance level alpha = 0.05. "
   ]
  },
  {
   "cell_type": "markdown",
   "metadata": {
    "_cell_guid": "07b53cbd-032e-43d6-9039-47bd53565741",
    "_uuid": "75d6f215465c8923396f40c6f9946d7f44585255"
   },
   "source": [
    "### Autocorrelation  <a class=\"anchor\" id=\"autocorrelation\"></a>\n",
    "\n",
    "Autocorrelation is the correlation of a time series with the same time series lagged. It summarizes the strength of a relationship with an observation in a time series with observations at prior time steps.\n",
    "\n",
    "We create autocorrelation factor (ACF) and partial autocorrelation factor (PACF) plots to identify patterns in the above data which is stationary on both mean and variance. The idea is to identify presence of AR and MA components in the residuals. "
   ]
  },
  {
   "cell_type": "code",
   "execution_count": 12,
   "metadata": {
    "_cell_guid": "11384606-93a9-4145-a481-a26048786eee",
    "_uuid": "12103f17762f6be29d892c9df92f327809417170"
   },
   "outputs": [],
   "source": [
    "#autocorrelation_plot(btc_month.close)\n",
    "plot_acf(btc_month.Close[13:].values.squeeze(), lags=12)\n",
    "plt.tight_layout()"
   ]
  },
  {
   "cell_type": "markdown",
   "metadata": {
    "_cell_guid": "89df2351-b6e6-48b6-b43a-2208dbfd9a9d",
    "_uuid": "12fa54f1199196d05940b1ae1dc9009c0ab6bd17"
   },
   "source": [
    "There is a positive correlation with the first 10 lags that is perhaps significant for the first 2-3 lags.\n",
    "\n",
    "A good starting point for the AR parameter of the model may be 3.\n",
    "\n",
    "Lets try out autocorrelation on the differences..."
   ]
  },
  {
   "cell_type": "code",
   "execution_count": 13,
   "metadata": {
    "_cell_guid": "331a7c98-6861-4a1d-8bf2-048d4915dd0f",
    "_uuid": "d267de934f7d265d9b8891a5a91d7e28ff05dc45"
   },
   "outputs": [],
   "source": [
    "# Initial approximation of parameters using Autocorrelation and Partial Autocorrelation Plots\n",
    "ax = plt.subplot(211)\n",
    "# Plot the autocorrelation function\n",
    "#sm.graphics.tsa.plot_acf(btc_month.box_diff2[13:].values.squeeze(), lags=48, ax=ax)\n",
    "plot_acf(btc_month.box_diff2[13:].values.squeeze(), lags=12, ax=ax)\n",
    "ax = plt.subplot(212)\n",
    "#sm.graphics.tsa.plot_pacf(btc_month.box_diff2[13:].values.squeeze(), lags=48, ax=ax)\n",
    "plot_pacf(btc_month.box_diff2[13:].values.squeeze(), lags=12, ax=ax)\n",
    "plt.tight_layout()"
   ]
  },
  {
   "cell_type": "markdown",
   "metadata": {
    "_cell_guid": "3c655ab5-b08e-4db1-a96d-8753fa718df0",
    "_uuid": "542b42503a745ec248c173f6af77cc94c5a59fb7"
   },
   "source": [
    "There are not many spikes in the plots outside the insignificant zone (shaded) so there may not be enough information available in the residuals to be extracted by AR and MA models. \n",
    "\n",
    "There may be a seasonal component available in the residuals at the lags of quarters (3 months) represented by spikes at these intervals. But probably not significant."
   ]
  },
  {
   "cell_type": "markdown",
   "metadata": {
    "_cell_guid": "78d40d20-fece-4443-b161-1ad14d9586f1",
    "_uuid": "4987a32f52278c05b29104e3d1f584eb43639ec2"
   },
   "source": [
    "# Monthly Forecasting <a class=\"anchor\" id=\"monthly_forecasting\"></a>"
   ]
  },
  {
   "cell_type": "markdown",
   "metadata": {
    "_cell_guid": "6bd8de2d-2dce-464b-be5f-b1d3543a7c35",
    "_uuid": "7b94ac8471b18b19152af461fc3196cfed3b2c54"
   },
   "source": [
    "## ARIMA Model  <a class=\"anchor\" id=\"arima_model\"></a>\n",
    "AutoRegressive Integrated Moving Average\n",
    "\n",
    "ARIMA models are denoted with the notation ARIMA(p, d, q). These parameters account for seasonality, trend, and noise in datasets:\n",
    "\n",
    "    p - the number of lag observations to include in the model, or lag order. (AR)\n",
    "    d - the number of times that the raw observations are differenced, or the degree of differencing. (I)\n",
    "    q - the size of the moving average window, also called the order of moving average.(MA)\n",
    "\n",
    "A linear regression model is constructed including the specified number and type of terms, and the data is prepared by a degree of differencing in order to make it stationary, i.e. to remove trend and seasonal structures that negatively affect the regression model.\n",
    "A value of 0 for a parameter indicates to not use that element of the model. "
   ]
  },
  {
   "cell_type": "markdown",
   "metadata": {
    "_cell_guid": "c60b5abe-cf3f-4afb-acc8-7920018b5b46",
    "_uuid": "9dd227d5f804b80bbde7dfe74b56114babea93e4"
   },
   "source": [
    "#### Parameter Selection\n",
    "\n",
    "We will iteratively explore different combinations of parameters. For each combination we fit a new ARIMA model with SARIMAX() and assess its overall quality.\n",
    "\n",
    "We will use the AIC (Akaike Information Criterion) value, returned with ARIMA models fitted using statsmodels. The AIC measures how well a model fits the data while taking into account the overall complexity of the model. A model that fits the data very well while using lots of features will be assigned a larger AIC score than a model that uses fewer features to achieve the same goodness-of-fit. Therefore, we are interested in finding the model that yields the lowest AIC value."
   ]
  },
  {
   "cell_type": "code",
   "execution_count": 14,
   "metadata": {
    "_cell_guid": "738a70b5-d074-4f61-aa54-8593abeb8583",
    "_uuid": "bb05e7ef45f3c92a3b80b0f543c9a64278f7ecfa"
   },
   "outputs": [],
   "source": [
    "# Initial approximation of parameters\n",
    "qs = range(0, 3)\n",
    "ps = range(0, 3)\n",
    "d=1\n",
    "parameters = product(ps, qs)\n",
    "parameters_list = list(parameters)\n",
    "len(parameters_list)\n",
    "\n",
    "# Model Selection\n",
    "results = []\n",
    "best_aic = float(\"inf\")\n",
    "warnings.filterwarnings('ignore')\n",
    "for param in parameters_list:\n",
    "    try:\n",
    "        model = SARIMAX(btc_month.close_box, order=(param[0], d, param[1])).fit(disp=-1)\n",
    "    except ValueError:\n",
    "        print('bad parameter combination:', param)\n",
    "        continue\n",
    "    aic = model.aic\n",
    "    if aic < best_aic:\n",
    "        best_model = model\n",
    "        best_aic = aic\n",
    "        best_param = param\n",
    "    results.append([param, model.aic])"
   ]
  },
  {
   "cell_type": "markdown",
   "metadata": {
    "_cell_guid": "b5caea64-b88f-4496-9c77-97679605895f",
    "_uuid": "ee39425aed3415c08bede317c4e5bcbfaa417d13"
   },
   "source": [
    "Note that some parameter combinations may lead to numerical misspecifications and we explicitly disabled warning messages in order to avoid an overload of warning messages. These misspecifications can also lead to errors and throw an exception, so we catch these exceptions and just print out the parameter combinations that cause these issues."
   ]
  },
  {
   "cell_type": "code",
   "execution_count": 15,
   "metadata": {
    "_cell_guid": "765983f2-e1f3-4540-964d-92be2add7e87",
    "_uuid": "a784afa95073b3db8a11a7f804094e097a786764"
   },
   "outputs": [],
   "source": [
    "# Best Models\n",
    "result_table = pd.DataFrame(results)\n",
    "result_table.columns = ['parameters', 'aic']\n",
    "print(result_table.sort_values(by = 'aic', ascending=True).head())"
   ]
  },
  {
   "cell_type": "markdown",
   "metadata": {
    "_cell_guid": "0a08789a-9991-4be1-8e6a-1fede54cfcc2",
    "_uuid": "220bdf5bad8bf24b8c30e99b081db0393bd1c3ae"
   },
   "source": [
    "Note the AICs are negative but this is not a problem.\n",
    "\n",
    "Usually, AIC is positive; however, it can be shifted by any additive constant, and some shifts can result in negative values of AIC. [...] It is not the absolute size of the AIC value, it is the relative values over the set of models considered, and particularly the differences between AIC values, that are important.\n",
    "\n",
    "Ref: Model Selection and Multi-model Inference: A Practical Information-theoretic Approach (Burnham and Anderson, 2004)"
   ]
  },
  {
   "cell_type": "code",
   "execution_count": 16,
   "metadata": {
    "_cell_guid": "eaefe3d9-8c3c-4d26-b86d-4539f18cef52",
    "_uuid": "2eec93ae7aaaf9f3425e7b6f113d8c5c741c18e0"
   },
   "outputs": [],
   "source": [
    "print(best_model.summary())"
   ]
  },
  {
   "cell_type": "markdown",
   "metadata": {
    "_cell_guid": "ea842f10-d1c8-4f7f-a808-6283c69a090d",
    "_uuid": "0dfe1ebaddab3601b8a6415e300187a85925b442"
   },
   "source": [
    "### Analysis of Results  <a class=\"anchor\" id=\"analysis_arima\"></a>\n",
    "\n",
    "The coef column shows the weight (i.e. importance) of each feature and how each one impacts the time series. The P>|z| column informs us of the significance of each feature weight. Here, each weight has a p-value lower or close to 0.05, so it is reasonable to retain all of them in our model.\n",
    "\n",
    "\n",
    "When fitting seasonal ARIMA models (and any other models for that matter), it is important to run model diagnostics to ensure that none of the assumptions made by the model have been violated. The plot_diagnostics object allows us to quickly generate model diagnostics and investigate for any unusual behavior."
   ]
  },
  {
   "cell_type": "code",
   "execution_count": 17,
   "metadata": {
    "_cell_guid": "82652a02-b35d-47b2-a6c4-e5d346fdc157",
    "_uuid": "652bfeb0608e81f7f16282f207dc341c6aa5350d"
   },
   "outputs": [],
   "source": [
    "print(\"Dickey–Fuller test:: p=%f\" % adfuller(best_model.resid[13:])[1])"
   ]
  },
  {
   "cell_type": "code",
   "execution_count": 18,
   "metadata": {
    "_cell_guid": "a5b88e1c-1ec9-4d83-9ed3-b213f12ce7ce",
    "_uuid": "97df0d1241cdd7f0fdcf25763617a87b3abbcab6"
   },
   "outputs": [],
   "source": [
    "best_model.plot_diagnostics(figsize=(15, 12))\n",
    "plt.show()"
   ]
  },
  {
   "cell_type": "markdown",
   "metadata": {
    "_cell_guid": "f00430af-950a-49cf-a229-46e0982ca352",
    "_uuid": "8af6def259a12aeb5a1468c50c849facfed4b9fe"
   },
   "source": [
    "Our primary concern is to ensure that the residuals of our model are uncorrelated and normally distributed with zero-mean. If the seasonal ARIMA model does not satisfy these properties, it is a good indication that it can be further improved.\n",
    "\n",
    "    In the histogram (top right), the KDE line should follow the N(0,1) line (normal distribution with mean 0, standard deviation 1) closely. This is an indication whether the residuals are normally distributed or not.\n",
    "\n",
    "    In the Q-Q-plot the ordered distribution of residuals (blue dots) should follow the linear trend of the samples taken from a standard normal distribution with N(0, 1). Again, this is an indication whether the residuals are normally distributed.\n",
    "\n",
    "    The standardized residual plot doesn't display any obvious seasonality. \n",
    "    This is confirmed by the autocorrelation plot, which shows that the time series residuals have low correlation with lagged versions of itself.\n",
    "\n",
    "Conclusion: We may consider trying to standardise the distribution further. But lets go ahead and do a prediction anyway..."
   ]
  },
  {
   "cell_type": "markdown",
   "metadata": {
    "_cell_guid": "2092cda1-da3b-4ce2-a1c6-cb9cf86f637b",
    "_uuid": "d4e01f898ef1d4ca30d9802b426f66b0000768c3"
   },
   "source": [
    "## Prediction <a class=\"anchor\" id=\"prediction_arima\"></a>"
   ]
  },
  {
   "cell_type": "code",
   "execution_count": 19,
   "metadata": {
    "_cell_guid": "beba2c61-5538-4733-a86d-16c56c4dbede",
    "_uuid": "54f6e381d1e566c8413739183f3619c6931d99f7",
    "collapsed": true,
    "jupyter": {
     "outputs_hidden": true
    }
   },
   "outputs": [],
   "source": [
    "# Inverse Box-Cox Transformation Function\n",
    "def invboxcox(y,lmbda):\n",
    "   if lmbda == 0:\n",
    "      return(np.exp(y))\n",
    "   else:\n",
    "      return(np.exp(np.log(lmbda*y+1)/lmbda))"
   ]
  },
  {
   "cell_type": "code",
   "execution_count": 20,
   "metadata": {
    "_cell_guid": "73488c78-2073-4a0e-88f3-a33a5c2e9546",
    "_uuid": "08dae9f2bdd05ed35e757f20c457d8ebef671c28"
   },
   "outputs": [],
   "source": [
    "# Prediction\n",
    "btc_month_pred = btc_month[['Close']]\n",
    "date_list = [datetime(2018, 6, 30), datetime(2018, 7, 31), datetime(2018, 8, 31)]\n",
    "future = pd.DataFrame(index=date_list, columns= btc_month.columns)\n",
    "btc_month_pred = pd.concat([btc_month_pred, future])\n",
    "\n",
    "#btc_month_pred['forecast'] = invboxcox(best_model.predict(start=0, end=75), lmbda)\n",
    "btc_month_pred['forecast'] = invboxcox(best_model.predict(start=datetime(2014, 1, 31), end=datetime(2018, 8, 31)), lmbda)\n",
    "\n",
    "btc_month_pred.Close.plot(linewidth=3)\n",
    "btc_month_pred.forecast.plot(color='r', ls='--', label='Predicted Close', linewidth=3)\n",
    "plt.legend()\n",
    "plt.grid()\n",
    "plt.title('Bitcoin monthly forecast')\n",
    "plt.ylabel('USD')"
   ]
  },
  {
   "cell_type": "markdown",
   "metadata": {
    "_cell_guid": "bf3a6ca6-b8ec-40d7-b8f9-0024946bbc49",
    "_uuid": "dae25c369dc9f82ec89c929233cfa0074d61e04d"
   },
   "source": [
    "## SARIMAX  Model  <a class=\"anchor\" id=\"sarimax_model\"></a>\n",
    "Seasonal AutoRegressive Integrated Moving Average with eXogenous regressors model\n",
    "\n",
    "I didn't expect the bitcoin data to display any seasonality but apparently it does display slight seasonality. So lets try to improve the model by using SARIMA.\n",
    "\n",
    "When dealing with seasonal effects, we make use of the seasonal ARIMA, which is denoted as ARIMA(p,d,q)(P,D,Q)s. Here, (p, d, q) are the non-seasonal parameters described above, while (P, D, Q) follow the same definition but are applied to the seasonal component of the time series. The term s is the periodicity of the time series (4 for quarterly periods, 12 for yearly periods, etc.).\n",
    "\n",
    "I have tried out this model with yearly and quarterly periods (toggle the commented out lines to see 12-month seasonal)."
   ]
  },
  {
   "cell_type": "markdown",
   "metadata": {
    "_cell_guid": "d753405c-bbdc-4622-8daf-da56d6a42923",
    "_uuid": "3c713389227aa48d990c7d6c827a73835399276f"
   },
   "source": [
    "#### Parameter Selection\n",
    "\n",
    "The same process of parameter selection for seasonal ARIMA. For each combination we fit a new seasonal ARIMA model with SARIMAX() and assess its overall quality."
   ]
  },
  {
   "cell_type": "code",
   "execution_count": 21,
   "metadata": {
    "_cell_guid": "f01cd7a4-58f9-4d5b-886e-2a9ccbc22373",
    "_uuid": "58087ed81612c1a25b6564c132741e352f9e468f"
   },
   "outputs": [],
   "source": [
    "# Initial approximation of parameters\n",
    "Qs = range(0, 2)\n",
    "qs = range(0, 3)\n",
    "Ps = range(0, 3)\n",
    "ps = range(0, 3)\n",
    "D=1\n",
    "d=1\n",
    "parameters = product(ps, qs, Ps, Qs)\n",
    "parameters_list = list(parameters)\n",
    "len(parameters_list)\n",
    "\n",
    "# Model Selection\n",
    "results = []\n",
    "best_aic = float(\"inf\")\n",
    "warnings.filterwarnings('ignore')\n",
    "for param in parameters_list:\n",
    "    try:\n",
    "#        model = SARIMAX(btc_month.close_box, order=(param[0], d, param[1]), seasonal_order=(param[2], D, param[3], 12)).fit(disp=-1)\n",
    "        model = SARIMAX(btc_month.close_box, order=(param[0], d, param[1]), seasonal_order=(param[2], D, param[3], 4)).fit(disp=-1)\n",
    "    except ValueError:\n",
    "        print('bad parameter combination:', param)\n",
    "        continue\n",
    "    aic = model.aic\n",
    "    if aic < best_aic:\n",
    "        best_model = model\n",
    "        best_aic = aic\n",
    "        best_param = param\n",
    "    results.append([param, model.aic])"
   ]
  },
  {
   "cell_type": "code",
   "execution_count": 22,
   "metadata": {
    "_cell_guid": "4b6d78ba-a95a-4dad-b81d-abbe3665ca34",
    "_uuid": "4712553764ae01f23ea0d7b81aa47aaacbf27090"
   },
   "outputs": [],
   "source": [
    "# Best Models\n",
    "result_table = pd.DataFrame(results)\n",
    "result_table.columns = ['parameters', 'aic']\n",
    "print(result_table.sort_values(by = 'aic', ascending=True).head())\n",
    "print(best_model.summary())"
   ]
  },
  {
   "cell_type": "markdown",
   "metadata": {
    "_cell_guid": "b10d850e-31a1-4889-a394-fa35e372c0ac",
    "_uuid": "b8cec46cd88e9e9c84c31b004331f50ccf3e7b25"
   },
   "source": [
    "### Analysis of Results  <a class=\"anchor\" id=\"analysis_sarimax\"></a>"
   ]
  },
  {
   "cell_type": "code",
   "execution_count": 23,
   "metadata": {
    "_cell_guid": "b68a3464-f11c-48a2-8535-eab48d951428",
    "_uuid": "46095c1807e25213cc831401507f81655267529c"
   },
   "outputs": [],
   "source": [
    "print(\"Dickey–Fuller test:: p=%f\" % adfuller(best_model.resid[13:])[1])"
   ]
  },
  {
   "cell_type": "code",
   "execution_count": 24,
   "metadata": {
    "_cell_guid": "db7910ee-30e9-4082-9bfb-f24cf1625552",
    "_uuid": "1fca01b00b591c9a2aa3052cbf3fc0a7f403c8c4"
   },
   "outputs": [],
   "source": [
    "best_model.plot_diagnostics(figsize=(15, 12))\n",
    "plt.show()"
   ]
  },
  {
   "cell_type": "code",
   "execution_count": 25,
   "metadata": {
    "_cell_guid": "431ac990-33db-495c-a3da-32f3166d0ca6",
    "_uuid": "3d6cd16b169dddb7d1725706f8a12d0891441d33"
   },
   "outputs": [],
   "source": [
    "# STL-decomposition\n",
    "plt.subplot(211)\n",
    "best_model.resid[13:].plot()\n",
    "plt.ylabel(u'Residuals')\n",
    "ax = plt.subplot(212)\n",
    "#sm.graphics.tsa.plot_acf(best_model.resid[13:].values.squeeze(), lags=48, ax=ax)\n",
    "plot_acf(best_model.resid[13:].values.squeeze(), lags=12, ax=ax)\n",
    "\n",
    "print(\"Dickey–Fuller test:: p=%f\" % adfuller(best_model.resid[13:])[1])\n",
    "\n",
    "plt.tight_layout()"
   ]
  },
  {
   "cell_type": "markdown",
   "metadata": {
    "_cell_guid": "8ac25671-3ebd-4a37-88db-10f45389144c",
    "_uuid": "8941b2b3085835fccfd4b22e66ab074956a1742e"
   },
   "source": [
    "## Prediction  <a class=\"anchor\" id=\"prediction_sarimax\"></a>"
   ]
  },
  {
   "cell_type": "code",
   "execution_count": 26,
   "metadata": {
    "_cell_guid": "39872ed3-6b51-41e2-8fd5-08a8add15ca6",
    "_uuid": "1e6babab35ae6516557039e4217e2587bf289817"
   },
   "outputs": [],
   "source": [
    "# Prediction\n",
    "btc_month_sarima = btc_month[['Close']]\n",
    "date_list = [datetime(2018, 6, 30), datetime(2018, 7, 31), datetime(2018, 8, 31)]\n",
    "future = pd.DataFrame(index=date_list, columns= btc_month.columns)\n",
    "btc_month_sarima = pd.concat([btc_month_sarima, future])\n",
    "\n",
    "btc_month_sarima['forecast'] = invboxcox(best_model.predict(start=12, end=75), lmbda)\n",
    "\n",
    "btc_month_sarima.Close.plot(linewidth=3)\n",
    "btc_month_sarima.forecast.plot(color='r', ls='--', label='forecast', linewidth=3)\n",
    "plt.legend()\n",
    "plt.title('Bitcoin Monthly Close Forecast')\n",
    "plt.ylabel('USD')\n",
    "plt.grid()\n",
    "plt.savefig('bitcoin_monthly_forecast.png')"
   ]
  },
  {
   "cell_type": "markdown",
   "metadata": {
    "_cell_guid": "3a0c0ed3-1e89-4ba4-8d54-24424a9eab08",
    "_uuid": "2fdcf82a1d1cd9f740f88aa9da87243a1e9b7ad0"
   },
   "source": [
    "## Validation <a class=\"anchor\" id=\"validation\"></a>\n",
    "\n",
    "A simple indicator of how accurate out forecast is is the root mean square error (RMSE). So lets get a baseline and then calcualte the RMSE for the one-step ahead predictions starting from 2015, through to the end of 2017.\n",
    "\n",
    "### Baseline <a class=\"anchor\" id=\"baseline\"></a>\n",
    "\n",
    "The naive forecast, where the observation from the previous time step is used as the prediction for the observation at the next time step, can be taken as a simple baseline."
   ]
  },
  {
   "cell_type": "code",
   "execution_count": 27,
   "metadata": {
    "_cell_guid": "8d81032b-3a7b-4103-9361-8a3726da46d1",
    "_uuid": "bbfea3ba728f3a0462825e0ff0812886362259c8"
   },
   "outputs": [],
   "source": [
    "btc_month_predict = btc_month['2015-01-01':'2017-01-01']\n",
    "\n",
    "# Get a naive forecast\n",
    "close_history = [x for x in btc_month_predict['Close']]\n",
    "predictions = list()\n",
    "for i in range(len(btc_month_predict)):\n",
    "    # predict\n",
    "    predictions.append(close_history[-1])\n",
    "    # update observation\n",
    "    close_history.append(btc_month_predict.iloc[i]['Close'])\n",
    "    \n",
    "# Calculate RMSE\n",
    "rmse = sqrt(mean_squared_error(btc_month_predict['Close'], predictions))\n",
    "print('RMSE: %.2f' % rmse)"
   ]
  },
  {
   "cell_type": "code",
   "execution_count": 28,
   "metadata": {
    "_cell_guid": "45ae3fd3-acff-4794-8822-97b3e7e8ba66",
    "_uuid": "57b227db0be1c5da9d22d847ac5cff9cc434cb17"
   },
   "outputs": [],
   "source": [
    "# Plot predictions vs actual\n",
    "btc_month_predict['naive_forecast'] = predictions\n",
    "plt.plot(btc_month_predict['Close'],  linewidth=3)\n",
    "plt.plot(btc_month_predict['naive_forecast'], color='r', ls='--', label='forecast', linewidth=3)\n",
    "plt.title('Naive forecast')\n",
    "plt.ylabel('USD')\n",
    "plt.grid()"
   ]
  },
  {
   "cell_type": "markdown",
   "metadata": {
    "_cell_guid": "d64d9dc4-0dc0-4ad1-be10-046bb02fde41",
    "_uuid": "a25ac649c53935d79e4db4eadfa5409fe8dc89a0"
   },
   "source": [
    "### SARIMA <a class=\"anchor\" id=\"validation_sarimax\"></a>"
   ]
  },
  {
   "cell_type": "code",
   "execution_count": 29,
   "metadata": {
    "_cell_guid": "3eb4de09-b19a-4e96-812d-c5cba1608991",
    "_uuid": "47a23840128090a4c9de55c50d617259bea099f8"
   },
   "outputs": [],
   "source": [
    "y_forecasted = btc_month_sarima.forecast\n",
    "y_truth = btc_month_sarima['2015-01-01':'2017-01-01'].Close\n",
    "\n",
    "# Compute the root mean square error\n",
    "rmse = np.sqrt(((y_forecasted - y_truth) ** 2).mean())\n",
    "print('Mean Squared Error: {}'.format(round(rmse, 2)))"
   ]
  },
  {
   "cell_type": "markdown",
   "metadata": {
    "_cell_guid": "b3c9e341-7f96-4b31-9773-5e21fa22a765",
    "_uuid": "7052e8baaebf987990ffdcc4a1a8bbf967e843af"
   },
   "source": [
    "SARIMA does better than the naive forecast when measuring the MSE on a month-by-month prediction basis, ie: Using the actual close price of the last month in order to predict the close price of the next month."
   ]
  },
  {
   "cell_type": "markdown",
   "metadata": {
    "_cell_guid": "aa47f940-aa7d-4de4-8405-bd51e17a0947",
    "_uuid": "5fa5be73ca0060794c6767b1d6c9b9d0c7c621f2"
   },
   "source": [
    "A better representation of longer-term predictive power can be obtained using dynamic forecasts. In this case, we only use information from the time series up to a certain point, and after that, forecasts are generated using values from previous forecasted time points.\n",
    "\n",
    "In the code chunk below, we specify to start computing the dynamic forecasts and confidence intervals from mid 2017 onwards."
   ]
  },
  {
   "cell_type": "code",
   "execution_count": 30,
   "metadata": {
    "_cell_guid": "a16995ee-4e76-4188-8d66-77251c900ade",
    "_uuid": "2e573b2403679dac938bd9931cede3144ca44a5b"
   },
   "outputs": [],
   "source": [
    "# Get the dynamic forecast between dates t1 and t2\n",
    "t1 = pd.to_datetime('2017-06-30')\n",
    "t2 = pd.to_datetime('2018-01-31')\n",
    "btc_month_dynamic = best_model.get_prediction(start=t1, end=t2, dynamic=True, full_results=True)\n",
    "btc_month_sarima['dynamic_forecast'] = invboxcox(btc_month_dynamic.predicted_mean, lmbda)\n",
    "\n",
    "# Taking 80% confidence interval because the 95% blows out too high to visualise\n",
    "pred_dynamic_ci = btc_month_dynamic.conf_int(alpha=0.2)\n",
    "pred_dynamic_ci['lower close_box'] = invboxcox(pred_dynamic_ci['lower close_box'], lmbda)\n",
    "pred_dynamic_ci['upper close_box'] = invboxcox(pred_dynamic_ci['upper close_box'], lmbda)\n",
    "\n",
    "# Plot\n",
    "plt.ylim((0,20000))\n",
    "\n",
    "btc_month_sarima.Close['2016':'2018-01'].plot(label='close', linewidth=3)\n",
    "btc_month_sarima.dynamic_forecast.plot(color='r', ls='--', label='dynamic forecast', linewidth=3)\n",
    "\n",
    "plt.fill_between(pred_dynamic_ci.index,\n",
    "                pred_dynamic_ci.iloc[:, 0],\n",
    "                pred_dynamic_ci.iloc[:, 1], color='k', alpha=.25)\n",
    "plt.fill_betweenx(plt.ylim(), t1, t2, alpha=.1, zorder=-1)\n",
    "\n",
    "plt.legend()\n",
    "plt.title('Bitcoin Dynamic Monthly Forecast (backtesting)')\n",
    "plt.grid()\n",
    "plt.ylabel('USD')"
   ]
  },
  {
   "cell_type": "markdown",
   "metadata": {
    "_cell_guid": "c44c5a15-84b6-464d-bf25-c2e7c3270988",
    "_uuid": "b3a6d9948f2be3440837ae3535b6e76a1c3fa080"
   },
   "source": [
    "This is pretty bad but not surprising given how the prices started going insane around late 2017. Lets see how well the model does in a different time period when things were a little more normal."
   ]
  },
  {
   "cell_type": "code",
   "execution_count": 31,
   "metadata": {
    "_cell_guid": "2292dbd7-1a61-4d17-937d-3f8a73877262",
    "_uuid": "4a1ee2c6d2567713732ae2abc210ce17ede68b60"
   },
   "outputs": [],
   "source": [
    "# Get the dynamic forecast between dates t1 and t2\n",
    "t1 = pd.to_datetime('2017-01-31')\n",
    "t2 = pd.to_datetime('2017-07-31')\n",
    "btc_month_dynamic = best_model.get_prediction(start=t1, end=t2, dynamic=True, full_results=True)\n",
    "btc_month_sarima['dynamic_forecast'] = invboxcox(btc_month_dynamic.predicted_mean, lmbda)\n",
    "\n",
    "# Taking 80% confidence interval because the 95% blows out too high to visualise\n",
    "pred_dynamic_ci = btc_month_dynamic.conf_int(alpha=0.2)\n",
    "pred_dynamic_ci['lower close_box'] = invboxcox(pred_dynamic_ci['lower close_box'], lmbda)\n",
    "pred_dynamic_ci['upper close_box'] = invboxcox(pred_dynamic_ci['upper close_box'], lmbda)\n",
    "\n",
    "# Plot\n",
    "plt.ylim((0,20000))\n",
    "\n",
    "btc_month_sarima.Close['2016':'2018-01'].plot(label='close', linewidth=3)\n",
    "btc_month_sarima.dynamic_forecast.plot(color='r', ls='--', label='dynamic forecast', linewidth=3)\n",
    "\n",
    "plt.fill_between(pred_dynamic_ci.index,\n",
    "                pred_dynamic_ci.iloc[:, 0],\n",
    "                pred_dynamic_ci.iloc[:, 1], color='k', alpha=.25)\n",
    "plt.fill_betweenx(plt.ylim(), t1, t2, alpha=.1, zorder=-1)\n",
    "\n",
    "plt.legend()\n",
    "plt.title('Bitcoin Dynamic Monthly Forecast (backtesting)')\n",
    "plt.grid()\n",
    "plt.ylabel('USD')"
   ]
  },
  {
   "cell_type": "markdown",
   "metadata": {
    "_cell_guid": "84717aee-37a9-46e7-8814-282599cff1dd",
    "_uuid": "45812c0de4b1d22ee1453667a9c0e45de2ad2a2e"
   },
   "source": [
    "The results indicate that the model is still a little rough and not something we should use as trading advice, but that was not unexpected due to the extremely volatile nature of cryptocurrencies, especially in the last 6 months.\n",
    "\n",
    "It is probably also not such a good idea to try and predict 6 months into the future as we can see how insane even the 80% confidence interval becomes out this far. Maybe sticking to 1 month advance predictitons is more sensible. Or maybe even predicting on a daily basis.\n",
    "\n",
    "There are a number of things we could do to potentially improve the model. \n",
    "    - Use a different technique to standardise the distribution\n",
    "    - Use different differentiation techniques\n",
    "    - Discard the time period before cryptocurrencies started taking off\n",
    "    - Try modelling per day instead of month, with a smaller forecast window\n",
    "    - Use other models or machine learning instead of ARIMA\n"
   ]
  },
  {
   "cell_type": "markdown",
   "metadata": {
    "_cell_guid": "16464720-7e33-49af-96e3-1a6411ffc913",
    "_uuid": "ad1e652e5ad017a92c72b23fafa87f49b5d9403e"
   },
   "source": [
    "This is a work in progress. Please leave a comment and let me know if you think of any other ways this can be improved."
   ]
  }
 ],
 "metadata": {
  "kernelspec": {
   "display_name": "Python 3",
   "language": "python",
   "name": "python3"
  },
  "language_info": {
   "codemirror_mode": {
    "name": "ipython",
    "version": 3
   },
   "file_extension": ".py",
   "mimetype": "text/x-python",
   "name": "python",
   "nbconvert_exporter": "python",
   "pygments_lexer": "ipython3",
   "version": "3.8.8"
  },
  "toc": {
   "base_numbering": 1,
   "nav_menu": {},
   "number_sections": true,
   "sideBar": true,
   "skip_h1_title": false,
   "title_cell": "Table of Contents",
   "title_sidebar": "Contents",
   "toc_cell": false,
   "toc_position": {},
   "toc_section_display": true,
   "toc_window_display": false
  },
  "varInspector": {
   "cols": {
    "lenName": 16,
    "lenType": 16,
    "lenVar": 40
   },
   "kernels_config": {
    "python": {
     "delete_cmd_postfix": "",
     "delete_cmd_prefix": "del ",
     "library": "var_list.py",
     "varRefreshCmd": "print(var_dic_list())"
    },
    "r": {
     "delete_cmd_postfix": ") ",
     "delete_cmd_prefix": "rm(",
     "library": "var_list.r",
     "varRefreshCmd": "cat(var_dic_list()) "
    }
   },
   "types_to_exclude": [
    "module",
    "function",
    "builtin_function_or_method",
    "instance",
    "_Feature"
   ],
   "window_display": false
  }
 },
 "nbformat": 4,
 "nbformat_minor": 4
}
